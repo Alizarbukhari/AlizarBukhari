{
  "cells": [
    {
      "cell_type": "markdown",
      "id": "ef597741-3211-4ecc-92f7-f58023ee237e",
      "metadata": {
        "id": "ef597741-3211-4ecc-92f7-f58023ee237e"
      },
      "source": [
        "# LangChain Academy\n",
        "\n",
        "Welcome to LangChain Academy!\n",
        "\n",
        "## Context\n",
        "\n",
        "At LangChain, we aim to make it easy to build LLM applications. One type of LLM application you can build is an agent. There’s a lot of excitement around building agents because they can automate a wide range of tasks that were previously impossible.\n",
        "\n",
        "In practice though, it is incredibly difficult to build systems that reliably execute on these tasks. As we’ve worked with our users to put agents into production, we’ve learned that more control is often necessary. You might need an agent to always call a specific tool first or use different prompts based on its state.\n",
        "\n",
        "To tackle this problem, we’ve built [LangGraph](https://langchain-ai.github.io/langgraph/) — a framework for building agent and multi-agent applications. Separate from the LangChain package, LangGraph’s core design philosophy is to help developers add better precision and control into agent workflows, suitable for the complexity of real-world systems.\n",
        "\n",
        "## Course Structure\n",
        "\n",
        "The course is structured as a set of modules, with each module focused on a particular theme related to LangGraph. You will see a folder for each module, which contains a series of notebooks. A video will accompany each notebook to help walk through the concepts, but the notebooks are also stand-alone, meaning that they contain explanations and can be viewed independent of the videos. Each module folder also contains a `studio` folder, which contains a set of graphs that can be loaded into [LangGraph Studio](https://github.com/langchain-ai/langgraph-studio), our IDE for building LangGraph applications.\n",
        "\n",
        "## Setup\n",
        "\n",
        "Before you begin, please follow the instructions in the `README` to create an environment and install dependencies.\n",
        "\n",
        "## Chat models\n",
        "\n",
        "In this course, we'll be using [Chat Models](https://python.langchain.com/v0.2/docs/concepts/#chat-models), which do a few things take a sequence of messages as inputs and return chat messages as outputs. LangChain does not host any Chat Models, rather we rely on third party integrations. [Here](https://python.langchain.com/v0.2/docs/integrations/chat/) is a list of 3rd party chat model integrations within LangChain! By default, the course with use [GEMINI_API_KEY](https://ai.google.dev/gemini-api/docs/api-key/) because it is both popular and performant. As noted, please ensure that you have an `GEMINI_API_KEY`.\n",
        "\n",
        "Let's check that your `GEMINI_API_KEY` is set and, if not, you will be asked to enter it."
      ]
    },
    {
      "cell_type": "code",
      "execution_count": 6,
      "id": "0f9a52c8",
      "metadata": {
        "id": "0f9a52c8"
      },
      "outputs": [],
      "source": [
        "%%capture --no-stderr\n",
        "!pip install -q langchain_google_genai langchain_core tavily-python langchain_community"
      ]
    },
    {
      "cell_type": "code",
      "source": [
        "from langchain_google_genai import ChatGoogleGenerativeAI\n",
        "\n",
        "from google.colab import userdata\n",
        "GEMINI_API_KEY = userdata.get('GEMINI_API_KEY')\n",
        "llm = ChatGoogleGenerativeAI(\n",
        "    model=\"gemini-1.5-flash\",\n",
        "    api_key=GEMINI_API_KEY,\n",
        "    temperature=0\n",
        ")\n"
      ],
      "metadata": {
        "id": "Ch7HciDZXh3F"
      },
      "id": "Ch7HciDZXh3F",
      "execution_count": null,
      "outputs": []
    },
    {
      "cell_type": "code",
      "source": [
        "result  = llm.invoke(\"what is date today\")\n",
        "result"
      ],
      "metadata": {
        "colab": {
          "base_uri": "https://localhost:8080/",
          "height": 166
        },
        "id": "KKnOnfj3YZYT",
        "outputId": "c8315f4d-65b3-4f14-f0ed-766dd521b2ef"
      },
      "id": "KKnOnfj3YZYT",
      "execution_count": 1,
      "outputs": [
        {
          "output_type": "error",
          "ename": "NameError",
          "evalue": "name 'llm' is not defined",
          "traceback": [
            "\u001b[0;31m---------------------------------------------------------------------------\u001b[0m",
            "\u001b[0;31mNameError\u001b[0m                                 Traceback (most recent call last)",
            "\u001b[0;32m<ipython-input-1-1dbb120075b7>\u001b[0m in \u001b[0;36m<cell line: 1>\u001b[0;34m()\u001b[0m\n\u001b[0;32m----> 1\u001b[0;31m \u001b[0mresult\u001b[0m  \u001b[0;34m=\u001b[0m \u001b[0mllm\u001b[0m\u001b[0;34m.\u001b[0m\u001b[0minvoke\u001b[0m\u001b[0;34m(\u001b[0m\u001b[0;34m\"what is date today\"\u001b[0m\u001b[0;34m)\u001b[0m\u001b[0;34m\u001b[0m\u001b[0;34m\u001b[0m\u001b[0m\n\u001b[0m\u001b[1;32m      2\u001b[0m \u001b[0mresult\u001b[0m\u001b[0;34m\u001b[0m\u001b[0;34m\u001b[0m\u001b[0m\n",
            "\u001b[0;31mNameError\u001b[0m: name 'llm' is not defined"
          ]
        }
      ]
    },
    {
      "cell_type": "markdown",
      "id": "28450d1b",
      "metadata": {
        "id": "28450d1b"
      },
      "source": [
        "Chat models in LangChain have a number of [default methods](https://python.langchain.com/v0.2/docs/concepts/#runnable-interface). For the most part, we'll be using:\n",
        "\n",
        "* `stream`: stream back chunks of the response\n",
        "* `invoke`: call the chain on an input\n",
        "\n",
        "And, as mentioned, chat models take [messages](https://python.langchain.com/v0.2/docs/concepts/#messages) as input. Messages have a role (that describes who is saying the message) and a content property. We'll be talking a lot more about this later, but here let's just show the basics."
      ]
    },
    {
      "cell_type": "code",
      "execution_count": null,
      "id": "b1280e1b",
      "metadata": {
        "colab": {
          "base_uri": "https://localhost:8080/"
        },
        "id": "b1280e1b",
        "outputId": "040dbd0b-5e22-4044-b9a1-3fc7f55394a5"
      },
      "outputs": [
        {
          "output_type": "execute_result",
          "data": {
            "text/plain": [
              "AIMessage(content='You\\'re in the right place to learn about LangChain! Here\\'s a breakdown of how you can get started:\\n\\n**1. The Basics:**\\n\\n* **Official Documentation:** The best place to start is the LangChain documentation: [https://langchain.readthedocs.io/en/latest/](https://langchain.readthedocs.io/en/latest/)\\n* **Tutorials:** LangChain has a great collection of tutorials that walk you through building different types of applications: [https://langchain.readthedocs.io/en/latest/](https://langchain.readthedocs.io/en/latest/)\\n* **Example Projects:** Explore the LangChain GitHub repository for example projects that demonstrate various use cases: [https://github.com/langchain-ai/langchain](https://github.com/langchain-ai/langchain)\\n\\n**2. Key Concepts:**\\n\\n* **Chains:** LangChain\\'s core concept. Chains are sequences of components that work together to achieve a specific task.\\n* **LLMs (Large Language Models):** The brains of LangChain applications. You\\'ll use LLMs like GPT-3, Jurassic-1 Jumbo, or others to generate text, translate languages, write different kinds of creative content, and answer your questions in an informative way.\\n* **Prompts:** The instructions you give to the LLM. Crafting effective prompts is crucial for getting the desired output.\\n* **Memory:** LangChain allows you to store and retrieve information from previous interactions, making your applications more context-aware.\\n* **Agents:**  LangChain agents can interact with external tools and APIs, expanding the capabilities of your applications.\\n\\n**3. Hands-on Learning:**\\n\\n* **Code Examples:**  The LangChain documentation and tutorials provide plenty of code examples to get you started.\\n* **Build Your Own Projects:**  Start with simple projects and gradually increase complexity.  \\n* **Community Support:** Join the LangChain community on Discord or GitHub for help and discussions:\\n    * Discord: [https://discord.gg/langchain](https://discord.gg/langchain)\\n    * GitHub: [https://github.com/langchain-ai/langchain](https://github.com/langchain-ai/langchain)\\n\\n**4. Resources:**\\n\\n* **LangChain Blog:** Stay up-to-date with the latest news and developments: [https://www.langchain.dev/](https://www.langchain.dev/)\\n* **YouTube Tutorials:** Search for \"LangChain tutorials\" on YouTube for video explanations and demonstrations.\\n\\n**5. Choose Your Path:**\\n\\n* **Beginner:** Start with the basic tutorials and build simple applications.\\n* **Intermediate:** Explore more advanced concepts like agents and memory.\\n* **Advanced:** Contribute to the LangChain community by developing new chains or tools.\\n\\nLet me know if you have any specific questions or want to explore a particular aspect of LangChain. I\\'m here to help! \\n', additional_kwargs={}, response_metadata={'prompt_feedback': {'block_reason': 0, 'safety_ratings': []}, 'finish_reason': 'STOP', 'safety_ratings': [{'category': 'HARM_CATEGORY_SEXUALLY_EXPLICIT', 'probability': 'NEGLIGIBLE', 'blocked': False}, {'category': 'HARM_CATEGORY_HATE_SPEECH', 'probability': 'NEGLIGIBLE', 'blocked': False}, {'category': 'HARM_CATEGORY_HARASSMENT', 'probability': 'NEGLIGIBLE', 'blocked': False}, {'category': 'HARM_CATEGORY_DANGEROUS_CONTENT', 'probability': 'NEGLIGIBLE', 'blocked': False}]}, id='run-dbaea432-33a9-4ef2-aa7d-1e43b2618bfc-0', usage_metadata={'input_tokens': 39, 'output_tokens': 633, 'total_tokens': 672, 'input_token_details': {'cache_read': 0}})"
            ]
          },
          "metadata": {},
          "execution_count": 7
        }
      ],
      "source": [
        "from langchain_core.messages import HumanMessage, AIMessage\n",
        "\n",
        "# Create a message\n",
        "# Message list\n",
        "messages = [\n",
        "    HumanMessage(content=\"Hi\", name=\"Human Student\"),\n",
        "    AIMessage(content='Hi! How can I help you today? \\n', name=\"AI Assistant\"),\n",
        "    HumanMessage(content=\"What is LangChain?\", name=\"Human Student\"),\n",
        "    AIMessage(content='LangChain is a framework for developing applications powered by language models.', name=\"AI Assistant\"),\n",
        "    HumanMessage(content=\"How can I learn\", name=\"Human Student\"),\n",
        "    ]\n",
        "\n",
        "# Invoke the model with a list of messages\n",
        "llm.invoke(messages)"
      ]
    },
    {
      "cell_type": "markdown",
      "id": "cac73e4c",
      "metadata": {
        "id": "cac73e4c"
      },
      "source": [
        "We get an `AIMessage` response. Also, note that we can just invoke a chat model with a string. When a string is passed in as input, it is converted to a `HumanMessage` and then passed to the underlying model.\n"
      ]
    },
    {
      "cell_type": "markdown",
      "id": "582c0e5a",
      "metadata": {
        "id": "582c0e5a"
      },
      "source": [
        "The interface is consistent across all chat models and models are typically initialized once at the start up each notebooks.\n",
        "\n",
        "So, you can easily switch between models without changing the downstream code if you have strong preference for another provider.\n"
      ]
    },
    {
      "cell_type": "markdown",
      "id": "3ad0069a",
      "metadata": {
        "id": "3ad0069a"
      },
      "source": [
        "## Search Tools\n",
        "\n",
        "You'll also see [Tavily](https://tavily.com/) in the README, which is a search engine optimized for LLMs and RAG, aimed at efficient, quick, and persistent search results. As mentioned, it's easy to sign up and offers a generous free tier. Some lessons (in Module 4) will use Tavily by default but, of course, other search tools can be used if you want to modify the code for yourself."
      ]
    },
    {
      "cell_type": "code",
      "source": [],
      "metadata": {
        "id": "yC_SIqVcLYtp"
      },
      "id": "yC_SIqVcLYtp",
      "execution_count": null,
      "outputs": []
    },
    {
      "cell_type": "code",
      "execution_count": 11,
      "id": "52d69da9",
      "metadata": {
        "id": "52d69da9"
      },
      "outputs": [],
      "source": [
        "import os\n",
        "from google.colab import userdata\n",
        "TAVILY_API_KEY = userdata.get('TAVILY_API_KEY')\n",
        "from langchain_community.tools.tavily_search import TavilySearchResults\n",
        "\n",
        "os.environ[\"TAVILY_API_KEY\"] = userdata.get('TAVILY_API_KEY')\n",
        "\n",
        "tavily_search = TavilySearchResults(max_results=3)\n",
        "search_docs = tavily_search.invoke(\"what is today date\")"
      ]
    },
    {
      "cell_type": "code",
      "source": [
        "search_docs"
      ],
      "metadata": {
        "colab": {
          "base_uri": "https://localhost:8080/"
        },
        "id": "JWzZ6zAvb2Fv",
        "outputId": "8ca77482-477b-4c85-b586-f33d4628a4db"
      },
      "id": "JWzZ6zAvb2Fv",
      "execution_count": 10,
      "outputs": [
        {
          "output_type": "execute_result",
          "data": {
            "text/plain": [
              "[{'url': 'https://www.calendardate.com/todays.htm',\n",
              "  'content': \"Monday November 18, 2024 November 2024 Calendar Holidays 2024 Holidays 2025 Holidays November 2024 Holidays Todays Date Today's Moon Phases November Moon Phases Today's Date Today's Date is Monday November 18, 2024 Time zone: California/Mountain View Change Time zone  November 2024 Day Number of Year: 323 Month Number of Year:   11 Sun Today Moon Today Zodiac Signs and Birthday Symbols for Today's Date Nov 28 - Thurs  Thanksgiving Day 2024   Federal Holiday Dec 2 - Mon Cyber Monday 2024   Observance Dec 6 - Fri St Nicholas Day 2024    Christian Dec 7 - Sat Pearl Harbor Remebrance Day 2024    Observance Dec 17 - Tues   Wright Brothers Day 2024    Observance Site Map By using our site you consent to our Privacy Policy.\"},\n",
              " {'url': 'https://datetimetoday.com/',\n",
              "  'content': 'Find date, time, timezone and more for over 200 countries. DateTimeToday.Com Dark Mode. Check the current date and time for any location in the world. Find date, time, timezone and more for over 200 countries. DateTimeToday.Com Dark Mode. Los Angeles. Monday, December 2, 2024. 06:32:12 PM. New York. Mon, Dec 2. 09:32 PM. London'},\n",
              " {'url': 'https://www.wikidates.org/todays-date.html',\n",
              "  'content': \"Today 2024 Calendar 2025 Calendar 2026 Calendar 2027 Calendar 2028 Calendar Monthly Calendars November 2024 Calendar May 2025 Calendar Two Months Calendar 2024 November and December 2024 Calendar • Today's Date in numbers: 323 • Days till New Year's Day? • Moon Age: 18.23 day(s) Holidays and National Days Today → See all Holidays and National Days for November 18, 2024 Days From Today Calculator • 30 days from today would be: Wednesday, December 18th, 2024. • 45 days from today would be: Thursday, January 2nd, 2025 . • 60 days from today would be: Friday, January 17th, 2025. • 90 days from today would be: Sunday, February 16th, 2025. • 120 days from today would be: Tuesday, March 18th, 2025.\"}]"
            ]
          },
          "metadata": {},
          "execution_count": 10
        }
      ]
    }
  ],
  "metadata": {
    "kernelspec": {
      "display_name": "Python 3 (ipykernel)",
      "language": "python",
      "name": "python3"
    },
    "language_info": {
      "codemirror_mode": {
        "name": "ipython",
        "version": 3
      },
      "file_extension": ".py",
      "mimetype": "text/x-python",
      "name": "python",
      "nbconvert_exporter": "python",
      "pygments_lexer": "ipython3",
      "version": "3.12.3"
    },
    "colab": {
      "provenance": []
    }
  },
  "nbformat": 4,
  "nbformat_minor": 5
}